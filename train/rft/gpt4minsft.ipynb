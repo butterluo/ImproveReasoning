{
 "cells": [
  {
   "cell_type": "markdown",
   "metadata": {},
   "source": [
    "# Azure OpenAI GPT-4o-mini fine-tuning\n",
    "\n",
    "The first step of Reinforcement Fine-Tuning (RFT) is to train the model using Supervised Fine-Tuning (SFT), enabling it to generate Chains of Thought (CoT) in a specific format. This prepares the model for subsequent Reinforcement Learning, which guides it to reason step-by-step along the correct CoT to arrive at accurate answers."
   ]
  },
  {
   "cell_type": "code",
   "execution_count": 1,
   "metadata": {},
   "outputs": [],
   "source": [
    "import sys, os\n",
    "import json\n",
    "from openai import AzureOpenAI\n",
    "from dotenv import load_dotenv\n",
    "load_dotenv()\n",
    "\n",
    "aoai_api_endpoint = os.getenv(\"AZURE_OPENAI_ENDPOINT\")\n",
    "aoai_api_key = os.getenv(\"AZURE_OPENAI_API_KEY\")\n",
    "aoai_api_version = os.getenv(\"AZURE_OPENAI_API_VERSION\")\n",
    "\n",
    "subscription = os.getenv(\"AZURE_SUBSCRIPTION_ID\")\n",
    "resource_group = os.getenv(\"AZURE_RESOURCE_GROUP\")\n",
    "resource_name = os.getenv(\"AZURE_OPENAI_SERVICE_NAME\")\n",
    "model_deployment_name = \"gpt-4o-mini-2024-07-18-ft\" # Custom deployment name you chose for your fine-tuning model\n"
   ]
  },
  {
   "cell_type": "code",
   "execution_count": 7,
   "metadata": {},
   "outputs": [
    {
     "data": {
      "text/plain": [
       "<openai.lib.azure.AzureOpenAI at 0x7f4de757a1a0>"
      ]
     },
     "execution_count": 7,
     "metadata": {},
     "output_type": "execute_result"
    }
   ],
   "source": [
    "client = AzureOpenAI(\n",
    "  azure_endpoint = aoai_api_endpoint,\n",
    "  api_key = aoai_api_key,\n",
    "  api_version = \"2024-08-01-preview\"  # This API version or later is required to access seed/events/checkpoint features\n",
    ")\n",
    "client"
   ]
  },
  {
   "cell_type": "markdown",
   "metadata": {},
   "source": [
    "## Data Set\n",
    "\n",
    "After executing `data/reasoningplaning/run_debug.sh`, a data file for SFT, named `math_500_tst.{uuid}.flat.sft.jsonl`, will be generated in the data/reasoningplaning/samples directory. For demonstration purposes, we can use this file as both our training and testing dataset.\n",
    "\n",
    "Then we can upload the data files to azure."
   ]
  },
  {
   "cell_type": "code",
   "execution_count": 1,
   "metadata": {},
   "outputs": [
    {
     "name": "stdout",
     "output_type": "stream",
     "text": [
      "Number of examples in data set: 122\n",
      "First example in data set:\n",
      "{'role': 'system', 'content': 'You are a math expert who excels at solving mathematical problems step by step.'}\n",
      "{'role': 'user', 'content': 'In the math club at my educational institution, which comprises 6 male participants and 8 female participants, I am tasked with forming a team to represent us at the upcoming state-level mathematics competition. Our goal is to assemble a group of exactly 6 individuals. How many distinct combinations can I utilize to form this team, assuming there are no limitations on the selection process?'}\n",
      "{'role': 'assistant', 'content': 'To find the total number of distinct combinations to form a team of 6 individuals from 14 participants (6 males and 8 females), we can use the combination formula:\\n\\n\\\\[\\n\\\\binom{n}{r} = \\\\frac{n!}{r!(n - r)!}\\n\\\\]\\n\\nwhere \\\\( n \\\\) is the total number of participants, and \\\\( r \\\\) is the number of participants to choose.\\n\\nHere, \\\\( n = 14 \\\\) and \\\\( r = 6 \\\\).\\n\\nNow, calculate \\\\( \\\\binom{14}{6} \\\\):\\n\\n\\\\[\\n\\\\binom{14}{6} = \\\\frac{14!}{6!(14 - 6)!} = \\\\frac{14!}{6! \\\\cdot 8!}\\n\\\\]\\n\\nThis simplifies to:\\n\\n\\\\[\\n\\\\binom{14}{6} = \\\\frac{14 \\\\times 13 \\\\times 12 \\\\times 11 \\\\times 10 \\\\times 9}{6 \\\\times 5 \\\\times 4 \\\\times 3 \\\\times 2 \\\\times 1}\\n\\\\]\\n\\nNow, compute the factorial in the numerator:\\n\\n\\\\[\\n14 \\\\times 13 = 182 \\\\\\\\\\n182 \\\\times 12 = 2184 \\\\\\\\\\n2184 \\\\times 11 = 24024 \\\\\\\\\\n24024 \\\\times 10 = 240240 \\\\\\\\\\n240240 \\\\times 9 = 2162160\\n\\\\]\\n\\nThen, compute the factorial in the denominator:\\n\\n\\\\[\\n6 \\\\times 5 = 30 \\\\\\\\\\n30 \\\\times 4 = 120 \\\\\\\\\\n120 \\\\times 3 = 360 \\\\\\\\\\n360 \\\\times 2 = 720 \\\\\\\\\\n720 \\\\times 1 = 720\\n\\\\]\\n\\nNow, divide the numerator by the denominator:\\n\\n\\\\[\\n\\\\frac{2162160}{720} = 3003\\n\\\\]\\n\\nThus, the total number of distinct combinations to form the team is:\\n\\n\\\\[\\n\\\\boxed{3003}\\n\\\\]'}\n"
     ]
    }
   ],
   "source": [
    "# After executing `data/reasoningplaning/run_debug.sh`, a data file for SFT, named `math_500_tst.{uuid}.flat.sft.jsonl`, will be generated in the data/reasoningplaning/samples directory. \n",
    "# For demonstration purposes, we can use this file as both our training and testing dataset.\n",
    "filepath = os.path.normpath(os.path.join(os.path.abspath(os.getcwd()),'..','..','data/evolvemcts4rl/samples/math_500_tst.3e7b.flat.sft.jsonl'))\n",
    "\n",
    "# Run preliminary checks\n",
    "\n",
    "# Load the training set\n",
    "with open(filepath, 'r', encoding='utf-8') as f:\n",
    "    training_dataset = [json.loads(line) for line in f]\n",
    "\n",
    "# Training dataset stats\n",
    "print(\"Number of examples in data set:\", len(training_dataset))\n",
    "print(\"First example in data set:\")\n",
    "for message in training_dataset[0][\"messages\"]:\n",
    "    print(message)\n",
    "\n",
    "training_file_name = filepath\n",
    "validation_file_name = filepath"
   ]
  },
  {
   "cell_type": "code",
   "execution_count": 2,
   "metadata": {},
   "outputs": [
    {
     "name": "stdout",
     "output_type": "stream",
     "text": [
      "Training file ID: file-5d729d05e4fb4c2c936c76f4d448a5ee\n",
      "Validation file ID: file-53b00097ebcd4197952cd1ea6165d7c1\n"
     ]
    }
   ],
   "source": [
    "# Then we can upload the data files to Azure OpenAI with the SDK.\n",
    "training_response = client.files.create(\n",
    "    file = open(training_file_name, \"rb\"), purpose=\"fine-tune\"\n",
    ")\n",
    "training_file_id = training_response.id\n",
    "\n",
    "validation_response = client.files.create(\n",
    "    file = open(validation_file_name, \"rb\"), purpose=\"fine-tune\"\n",
    ")\n",
    "validation_file_id = validation_response.id\n",
    "\n",
    "print(\"Training file ID:\", training_file_id)\n",
    "print(\"Validation file ID:\", validation_file_id)"
   ]
  },
  {
   "cell_type": "markdown",
   "metadata": {},
   "source": [
    "## Begin fine-tuning\n",
    "\n",
    "Now that the fine-tuning files have been successfully uploaded you can submit your fine-tuning training job:"
   ]
  },
  {
   "cell_type": "code",
   "execution_count": 4,
   "metadata": {},
   "outputs": [
    {
     "name": "stdout",
     "output_type": "stream",
     "text": [
      "Job ID: ftjob-ec3e8decda384cddaacf81b7f573b1c9\n",
      "Status: pending\n",
      "{\n",
      "  \"id\": \"ftjob-ec3e8decda384cddaacf81b7f573b1c9\",\n",
      "  \"created_at\": 1735688105,\n",
      "  \"error\": null,\n",
      "  \"fine_tuned_model\": null,\n",
      "  \"finished_at\": null,\n",
      "  \"hyperparameters\": {\n",
      "    \"n_epochs\": -1,\n",
      "    \"batch_size\": -1,\n",
      "    \"learning_rate_multiplier\": 1\n",
      "  },\n",
      "  \"model\": \"gpt-4o-mini-2024-07-18\",\n",
      "  \"object\": \"fine_tuning.job\",\n",
      "  \"organization_id\": null,\n",
      "  \"result_files\": null,\n",
      "  \"seed\": 105,\n",
      "  \"status\": \"pending\",\n",
      "  \"trained_tokens\": null,\n",
      "  \"training_file\": \"file-5d729d05e4fb4c2c936c76f4d448a5ee\",\n",
      "  \"validation_file\": \"file-53b00097ebcd4197952cd1ea6165d7c1\",\n",
      "  \"estimated_finish\": 1735689027,\n",
      "  \"integrations\": null\n",
      "}\n"
     ]
    }
   ],
   "source": [
    "# Submit fine-tuning training job\n",
    "\n",
    "response = client.fine_tuning.jobs.create(\n",
    "    training_file = training_file_id,\n",
    "    validation_file = validation_file_id,\n",
    "    model = \"gpt-4o-mini-2024-07-18\", # Enter base model name. Note that in Azure OpenAI the model name contains dashes and cannot contain dot/period characters.\n",
    "    seed = 105 # seed parameter controls reproducibility of the fine-tuning job. If no seed is specified one will be generated automatically.\n",
    ")\n",
    "\n",
    "job_id = response.id\n",
    "\n",
    "# You can use the job ID to monitor the status of the fine-tuning job.\n",
    "# The fine-tuning job will take some time to start and complete.\n",
    "\n",
    "print(\"Job ID:\", response.id)\n",
    "print(\"Status:\", response.status)\n",
    "print(response.model_dump_json(indent=2))"
   ]
  },
  {
   "cell_type": "code",
   "execution_count": 8,
   "metadata": {},
   "outputs": [],
   "source": [
    "job_id=\"ftjob-ec3e8decda384cddaacf81b7f573b1c9\""
   ]
  },
  {
   "cell_type": "markdown",
   "metadata": {},
   "source": [
    "If you would like to **poll the training job status** until it's complete, you can run:"
   ]
  },
  {
   "cell_type": "code",
   "execution_count": 9,
   "metadata": {},
   "outputs": [
    {
     "name": "stdout",
     "output_type": "stream",
     "text": [
      "Fine-tuning job ftjob-ec3e8decda384cddaacf81b7f573b1c9 finished with status: succeeded\n",
      "Checking other fine-tune jobs for this resource.\n",
      "Found 1 fine-tune jobs.\n"
     ]
    }
   ],
   "source": [
    "# Track training status\n",
    "from IPython.display import clear_output\n",
    "import time\n",
    "\n",
    "start_time = time.time()\n",
    "\n",
    "# Get the status of our fine-tuning job.\n",
    "response = client.fine_tuning.jobs.retrieve(job_id)\n",
    "\n",
    "status = response.status\n",
    "\n",
    "# If the job isn't done yet, poll it every 10 seconds.\n",
    "while status not in [\"succeeded\", \"failed\"]:\n",
    "    time.sleep(10)\n",
    "\n",
    "    response = client.fine_tuning.jobs.retrieve(job_id)\n",
    "    print(response.model_dump_json(indent=2))\n",
    "    print(\"Elapsed time: {} minutes {} seconds\".format(int((time.time() - start_time) // 60), int((time.time() - start_time) % 60)))\n",
    "    status = response.status\n",
    "    print(f'Status: {status}')\n",
    "    clear_output(wait=True)\n",
    "\n",
    "print(f'Fine-tuning job {job_id} finished with status: {status}')\n",
    "\n",
    "# List all fine-tuning jobs for this resource.\n",
    "print('Checking other fine-tune jobs for this resource.')\n",
    "response = client.fine_tuning.jobs.list()\n",
    "print(f'Found {len(response.data)} fine-tune jobs.')"
   ]
  },
  {
   "cell_type": "markdown",
   "metadata": {},
   "source": [
    "It isn't unusual for training to take more than an hour to complete. Once training is completed the output message will change to something like:\n",
    "```\n",
    "Fine-tuning job ftjob-900fcfc7ea1d4360a9f0cb1697b4eaa6 finished with status: succeeded\n",
    "Checking other fine-tune jobs for this resource.\n",
    "Found 4 fine-tune jobs.\n",
    "```"
   ]
  },
  {
   "cell_type": "markdown",
   "metadata": {},
   "source": [
    "While not necessary to complete fine-tuning it can be helpful to **examine the individual fine-tuning events** that were generated during training. The full training results can also be examined after training is complete in the training results file."
   ]
  },
  {
   "cell_type": "code",
   "execution_count": 10,
   "metadata": {},
   "outputs": [
    {
     "name": "stdout",
     "output_type": "stream",
     "text": [
      "{\n",
      "  \"data\": [\n",
      "    {\n",
      "      \"id\": \"ftevent-8467d44edd3949c1ab3cc432f475609d\",\n",
      "      \"created_at\": 1735693954,\n",
      "      \"level\": \"info\",\n",
      "      \"message\": \"Training tokens billed: 159000\",\n",
      "      \"object\": \"fine_tuning.job.event\",\n",
      "      \"type\": \"message\"\n",
      "    },\n",
      "    {\n",
      "      \"id\": \"ftevent-ac9413c9e83d4e91b95f2a9a6e6c0736\",\n",
      "      \"created_at\": 1735693954,\n",
      "      \"level\": \"info\",\n",
      "      \"message\": \"Model Evaluation Passed.\",\n",
      "      \"object\": \"fine_tuning.job.event\",\n",
      "      \"type\": \"message\"\n",
      "    },\n",
      "    {\n",
      "      \"id\": \"ftevent-8f6bf4a901a543f2a29c40904e6184fe\",\n",
      "      \"created_at\": 1735693954,\n",
      "      \"level\": \"info\",\n",
      "      \"message\": \"Completed results file: file-05d60eedd8d84226b4e047860dba9f03\",\n",
      "      \"object\": \"fine_tuning.job.event\",\n",
      "      \"type\": \"message\"\n",
      "    },\n",
      "    {\n",
      "      \"id\": \"ftevent-4d7a06bec7f942178850a1fda209166b\",\n",
      "      \"created_at\": 1735693951,\n",
      "      \"level\": \"info\",\n",
      "      \"message\": \"Postprocessing started.\",\n",
      "      \"object\": \"fine_tuning.job.event\",\n",
      "      \"type\": \"message\"\n",
      "    },\n",
      "    {\n",
      "      \"id\": \"ftevent-7c92a7f43f7e48d7b66a58d4690a0f56\",\n",
      "      \"created_at\": 1735693951,\n",
      "      \"level\": \"info\",\n",
      "      \"message\": \"Job succeeded.\",\n",
      "      \"object\": \"fine_tuning.job.event\",\n",
      "      \"type\": \"message\"\n",
      "    },\n",
      "    {\n",
      "      \"id\": \"ftevent-808dd2a002ffdb0808dd2a002ffdb080\",\n",
      "      \"created_at\": 1735693445,\n",
      "      \"level\": \"info\",\n",
      "      \"message\": \"Step 366: training loss=0.09808275103569031\",\n",
      "      \"object\": \"fine_tuning.job.event\",\n",
      "      \"type\": \"metrics\",\n",
      "      \"data\": {\n",
      "        \"step\": 366,\n",
      "        \"train_loss\": 0.09808275103569031,\n",
      "        \"train_mean_token_accuracy\": 0.9593495726585388,\n",
      "        \"valid_loss\": 0.0745824507947238,\n",
      "        \"valid_mean_token_accuracy\": 0.9669811320754716,\n",
      "        \"full_valid_loss\": 0.19185392828990863,\n",
      "        \"full_valid_mean_token_accuracy\": 0.7687091483267644\n",
      "      }\n",
      "    },\n",
      "    {\n",
      "      \"id\": \"ftevent-808dd2a002c6a29808dd2a002c6a2980\",\n",
      "      \"created_at\": 1735693439,\n",
      "      \"level\": \"info\",\n",
      "      \"message\": \"Step 360: training loss=0.09881109744310379\",\n",
      "      \"object\": \"fine_tuning.job.event\",\n",
      "      \"type\": \"metrics\",\n",
      "      \"data\": {\n",
      "        \"step\": 360,\n",
      "        \"train_loss\": 0.09881109744310379,\n",
      "        \"train_mean_token_accuracy\": 0.9531915187835693,\n",
      "        \"valid_loss\": 0.08762167930603028,\n",
      "        \"valid_mean_token_accuracy\": 0.975\n",
      "      }\n",
      "    },\n",
      "    {\n",
      "      \"id\": \"ftevent-808dd2a00267448808dd2a0026744880\",\n",
      "      \"created_at\": 1735693429,\n",
      "      \"level\": \"info\",\n",
      "      \"message\": \"Step 350: training loss=0.0900997668504715\",\n",
      "      \"object\": \"fine_tuning.job.event\",\n",
      "      \"type\": \"metrics\",\n",
      "      \"data\": {\n",
      "        \"step\": 350,\n",
      "        \"train_loss\": 0.0900997668504715,\n",
      "        \"train_mean_token_accuracy\": 0.9750000238418579,\n",
      "        \"valid_loss\": 0.0772551982575043,\n",
      "        \"valid_mean_token_accuracy\": 0.9771863117870723\n",
      "      }\n",
      "    },\n",
      "    {\n",
      "      \"id\": \"ftevent-808dd2a00207e67808dd2a00207e6780\",\n",
      "      \"created_at\": 1735693419,\n",
      "      \"level\": \"info\",\n",
      "      \"message\": \"Step 340: training loss=0.09416808933019638\",\n",
      "      \"object\": \"fine_tuning.job.event\",\n",
      "      \"type\": \"metrics\",\n",
      "      \"data\": {\n",
      "        \"step\": 340,\n",
      "        \"train_loss\": 0.09416808933019638,\n",
      "        \"train_mean_token_accuracy\": 0.9736841917037964,\n",
      "        \"valid_loss\": 0.16072006425832513,\n",
      "        \"valid_mean_token_accuracy\": 0.9422572178477691\n",
      "      }\n",
      "    },\n",
      "    {\n",
      "      \"id\": \"ftevent-808dd2a001a8886808dd2a001a888680\",\n",
      "      \"created_at\": 1735693409,\n",
      "      \"level\": \"info\",\n",
      "      \"message\": \"Step 330: training loss=0.071844182908535\",\n",
      "      \"object\": \"fine_tuning.job.event\",\n",
      "      \"type\": \"metrics\",\n",
      "      \"data\": {\n",
      "        \"step\": 330,\n",
      "        \"train_loss\": 0.071844182908535,\n",
      "        \"train_mean_token_accuracy\": 0.9737991094589233,\n",
      "        \"valid_loss\": 0.051213142395019534,\n",
      "        \"valid_mean_token_accuracy\": 0.992\n",
      "      }\n",
      "    }\n",
      "  ],\n",
      "  \"has_more\": true,\n",
      "  \"object\": \"list\"\n",
      "}\n"
     ]
    }
   ],
   "source": [
    "response = client.fine_tuning.jobs.list_events(fine_tuning_job_id=job_id, limit=10)\n",
    "print(response.model_dump_json(indent=2))"
   ]
  },
  {
   "cell_type": "markdown",
   "metadata": {},
   "source": [
    "When each training epoch completes a checkpoint is generated. A checkpoint is a fully functional version of a model which can both be deployed and used as the target model for subsequent fine-tuning jobs. Checkpoints can be particularly useful, as they can provide a snapshot of your model prior to overfitting having occurred. When a fine-tuning job completes you will have the three most recent versions of the model available to deploy. The final epoch will be represented by your fine-tuned model, the previous two epochs will be available as checkpoints. Let's use below code to **list checkpoints**."
   ]
  },
  {
   "cell_type": "code",
   "execution_count": 11,
   "metadata": {},
   "outputs": [
    {
     "name": "stdout",
     "output_type": "stream",
     "text": [
      "{\n",
      "  \"data\": [\n",
      "    {\n",
      "      \"id\": \"ftchkpt-37e580e8262549a0808a0ce33c13a2f5\",\n",
      "      \"created_at\": 1735693706,\n",
      "      \"fine_tuned_model_checkpoint\": \"gpt-4o-mini-2024-07-18.ft-ec3e8decda384cddaacf81b7f573b1c9\",\n",
      "      \"fine_tuning_job_id\": \"ftjob-ec3e8decda384cddaacf81b7f573b1c9\",\n",
      "      \"metrics\": {\n",
      "        \"full_valid_loss\": 0.19185392828990863,\n",
      "        \"full_valid_mean_token_accuracy\": 0.7687091483267644,\n",
      "        \"step\": 366.0,\n",
      "        \"train_loss\": 0.09808275103569031,\n",
      "        \"train_mean_token_accuracy\": 0.9593495726585388,\n",
      "        \"valid_loss\": 0.0745824507947238,\n",
      "        \"valid_mean_token_accuracy\": 0.9669811320754716\n",
      "      },\n",
      "      \"object\": \"fine_tuning.job.checkpoint\",\n",
      "      \"step_number\": 366\n",
      "    },\n",
      "    {\n",
      "      \"id\": \"ftchkpt-c60ef8693a6d4c82a0bf1d6704709ecb\",\n",
      "      \"created_at\": 1735693443,\n",
      "      \"fine_tuned_model_checkpoint\": \"gpt-4o-mini-2024-07-18.ft-ec3e8decda384cddaacf81b7f573b1c9:ckpt-step-244\",\n",
      "      \"fine_tuning_job_id\": \"ftjob-ec3e8decda384cddaacf81b7f573b1c9\",\n",
      "      \"metrics\": {\n",
      "        \"full_valid_loss\": 0.1924334038147019,\n",
      "        \"full_valid_mean_token_accuracy\": 0.7673872065411638,\n",
      "        \"step\": 244.0,\n",
      "        \"train_loss\": 0.14980609714984894,\n",
      "        \"train_mean_token_accuracy\": 0.9450549483299255,\n",
      "        \"valid_loss\": 0.09286774329419406,\n",
      "        \"valid_mean_token_accuracy\": 0.9669811320754716\n",
      "      },\n",
      "      \"object\": \"fine_tuning.job.checkpoint\",\n",
      "      \"step_number\": 244\n",
      "    },\n",
      "    {\n",
      "      \"id\": \"ftchkpt-2edfcf5f8e48407eb6d3f73e519989ef\",\n",
      "      \"created_at\": 1735693250,\n",
      "      \"fine_tuned_model_checkpoint\": \"gpt-4o-mini-2024-07-18.ft-ec3e8decda384cddaacf81b7f573b1c9:ckpt-step-122\",\n",
      "      \"fine_tuning_job_id\": \"ftjob-ec3e8decda384cddaacf81b7f573b1c9\",\n",
      "      \"metrics\": {\n",
      "        \"full_valid_loss\": 0.20618963046635277,\n",
      "        \"full_valid_mean_token_accuracy\": 0.7639109892531029,\n",
      "        \"step\": 122.0,\n",
      "        \"train_loss\": 0.18078354001045227,\n",
      "        \"train_mean_token_accuracy\": 0.9413919448852539,\n",
      "        \"valid_loss\": 0.0896950307882057,\n",
      "        \"valid_mean_token_accuracy\": 0.9669811320754716\n",
      "      },\n",
      "      \"object\": \"fine_tuning.job.checkpoint\",\n",
      "      \"step_number\": 122\n",
      "    }\n",
      "  ],\n",
      "  \"has_more\": false,\n",
      "  \"object\": \"list\"\n",
      "}\n"
     ]
    }
   ],
   "source": [
    "response = client.fine_tuning.jobs.checkpoints.list(job_id)\n",
    "print(response.model_dump_json(indent=2))"
   ]
  },
  {
   "cell_type": "markdown",
   "metadata": {},
   "source": [
    "To get the **final results**, run the following:"
   ]
  },
  {
   "cell_type": "code",
   "execution_count": 12,
   "metadata": {},
   "outputs": [
    {
     "name": "stdout",
     "output_type": "stream",
     "text": [
      "{\n",
      "  \"id\": \"ftjob-ec3e8decda384cddaacf81b7f573b1c9\",\n",
      "  \"created_at\": 1735688105,\n",
      "  \"error\": null,\n",
      "  \"fine_tuned_model\": \"gpt-4o-mini-2024-07-18.ft-ec3e8decda384cddaacf81b7f573b1c9\",\n",
      "  \"finished_at\": 1735693954,\n",
      "  \"hyperparameters\": {\n",
      "    \"n_epochs\": 3,\n",
      "    \"batch_size\": 1,\n",
      "    \"learning_rate_multiplier\": 1\n",
      "  },\n",
      "  \"model\": \"gpt-4o-mini-2024-07-18\",\n",
      "  \"object\": \"fine_tuning.job\",\n",
      "  \"organization_id\": null,\n",
      "  \"result_files\": [\n",
      "    \"file-05d60eedd8d84226b4e047860dba9f03\"\n",
      "  ],\n",
      "  \"seed\": 105,\n",
      "  \"status\": \"succeeded\",\n",
      "  \"trained_tokens\": 133713,\n",
      "  \"training_file\": \"file-5d729d05e4fb4c2c936c76f4d448a5ee\",\n",
      "  \"validation_file\": \"file-53b00097ebcd4197952cd1ea6165d7c1\",\n",
      "  \"estimated_finish\": 1735689027,\n",
      "  \"integrations\": null\n",
      "}\n"
     ]
    }
   ],
   "source": [
    "# Retrieve fine_tuned_model name\n",
    "\n",
    "response = client.fine_tuning.jobs.retrieve(job_id)\n",
    "\n",
    "print(response.model_dump_json(indent=2))\n",
    "fine_tuned_model = response.fine_tuned_model"
   ]
  },
  {
   "cell_type": "markdown",
   "metadata": {},
   "source": [
    "## Deploy fine-tuned model\n",
    "\n",
    "Unlike the previous Python SDK commands in this tutorial, since the introduction of the quota feature, model deployment must be done using the REST API, which requires separate authorization, a different API path, and a different API version.\n",
    "\n",
    "Alternatively, you can deploy your fine-tuned model using any of the other common deployment methods like Azure OpenAI Studio, or Azure CLI.\n",
    "\n",
    "Before you run the below command, you should run `az login` in the terminal first."
   ]
  },
  {
   "cell_type": "code",
   "execution_count": 17,
   "metadata": {},
   "outputs": [
    {
     "name": "stdout",
     "output_type": "stream",
     "text": [
      "{\n",
      "  \"accessToken\": \"eyJ0eXAiOiJKV1QiLCJhbGciOiJSUzI1NiIsIng1dCI6InoxcnNZSEhKOS04bWdndDRIc1p1OEJLa0JQdyIsImtpZCI6InoxcnNZSEhKOS04bWdndDRIc1p1OEJLa0JQdyJ9.eyJhdWQiOiJodHRwczovL21hbmFnZW1lbnQuY29yZS53aW5kb3dzLm5ldC8iLCJpc3MiOiJodHRwczovL3N0cy53aW5kb3dzLm5ldC8xNmIzYzAxMy1kMzAwLTQ2OGQtYWM2NC03ZWRhMDgyMGI2ZDMvIiwiaWF0IjoxNzM1Njk0OTQxLCJuYmYiOjE3MzU2OTQ5NDEsImV4cCI6MTczNTcwMDEyNSwiYWNyIjoiMSIsImFpbyI6IkFhUUFXLzhZQUFBQXdLQUdwdTFhUlY1Z01KNEdoTUVObHlRbVJNNldScnV4Y2FIRk9kcEMvNkdZT3Zha1cvT2JNS0dVL3lwbk01YlRXaGV0SjV6TE53S0ZRNmdTckdTeTZacnZGYTNCMHl1bkJ2amhiYWFEQXpXUkEvd3FDWkNuTlo2a0xWNEwrUy9idVlqVlZGbDFJWHJIdWsrQVRwcitmWFBWSkpkbWpHRDE2MkJzUnRrdTJhWDlkc1RqcVZTMXhYMzVxdjBUOVJvRnRSZVVZeGZVUG1xaUtzbXBjTDJ6T3c9PSIsImFsdHNlY2lkIjoiNTo6MTAwMzIwMDNBQzlFQ0UwRSIsImFtciI6WyJyc2EiLCJtZmEiXSwiYXBwaWQiOiIwNGIwNzc5NS04ZGRiLTQ2MWEtYmJlZS0wMmY5ZTFiZjdiNDYiLCJhcHBpZGFjciI6IjAiLCJkZXZpY2VpZCI6ImQ4MzU5YmJjLWRjY2YtNDhkNy1hN2JlLWQ5YTI0ZGQ2MDQxMCIsImVtYWlsIjoibHVvZ2FuZ0BtaWNyb3NvZnQuY29tIiwiZmFtaWx5X25hbWUiOiJMdW8iLCJnaXZlbl9uYW1lIjoiR2FuZyIsImdyb3VwcyI6WyJiMTMwNDAyMi0wOGU2LTQ0N2QtYjA5NC0xNTM3MDU5N2M2YjYiLCIwOTUzMWE3Mi0yYzNlLTRlMDYtYmUxZS0yNTk2YmQwOGRjZGQiLCJkMzRjNGViZS00OTg0LTQ5MDMtYTY0ZC04YzIwMjgzZDUxNmIiLCJlMzA5NmRmNy1iNjVjLTRlMzItYWIxYS03YTM1ZGM2ODRmMGEiXSwiaWRwIjoiaHR0cHM6Ly9zdHMud2luZG93cy5uZXQvNzJmOTg4YmYtODZmMS00MWFmLTkxYWItMmQ3Y2QwMTFkYjQ3LyIsImlkdHlwIjoidXNlciIsImlwYWRkciI6IjE3Mi4xOTEuNi4xODciLCJuYW1lIjoiR2FuZyBMdW8iLCJvaWQiOiJhMDQ5MGMyZS00ZjZkLTQ5MGEtOWYwMy0wYjQ5YjhhM2M0ODAiLCJwdWlkIjoiMTAwMzIwMDNCMzRBMDUzQiIsInJoIjoiMS5BVVlBRThDekZnRFRqVWFzWkg3YUNDQzIwMFpJZjNrQXV0ZFB1a1Bhd2ZqMk1CUHhBSUpHQUEuIiwic2NwIjoidXNlcl9pbXBlcnNvbmF0aW9uIiwic2lkIjoiM2ZjMjFjMDctNGZjNC00MjVlLThjY2EtNDM3OTc5MmZhMGJlIiwic3ViIjoibEpSdGx5aWNUQnpmRENiVFFPMG9nazFhaVBfY3RwQWZKMkt4Yy1IRVY5VSIsInRpZCI6IjE2YjNjMDEzLWQzMDAtNDY4ZC1hYzY0LTdlZGEwODIwYjZkMyIsInVuaXF1ZV9uYW1lIjoibHVvZ2FuZ0BtaWNyb3NvZnQuY29tIiwidXRpIjoic0ExR0NSMUwwa3k1TUdERFNOSVdBQSIsInZlciI6IjEuMCIsIndpZHMiOlsiYjc5ZmJmNGQtM2VmOS00Njg5LTgxNDMtNzZiMTk0ZTg1NTA5Il0sInhtc19jYWUiOiIxIiwieG1zX2NjIjpbIkNQMSJdLCJ4bXNfZWRvdiI6dHJ1ZSwieG1zX2lkcmVsIjoiMSA0IiwieG1zX3RjZHQiOjE2NDUxMzcyMjh9.fVMIi6c-1rJnXfGim_ASvhk922JWxvTwTTn7bUsJ0SZuNdHZ0xqYmBymvnX-w6UhuTJtkBXlWzHa0Nty3LPNRA0unso8q3fYd9rGNzYBT5EVkkk_PRakErr_SNhHGye_mKmNl10uwi61iZs_2lktA7VncbPPd87TdkOWAPUI33TzvpzE4EI8heneXYow911tzcgEjjZ2uYpjvIexpfU3PYj5GJ335-y0QK_5zx3iGLumIjTgR29cnrwmR5laynqNimVlm9lvrKy-kJ2rzjweExxEDC3veqdC_wuNDXLfSz_mxiUbf9SjJBTOefz1sMBvCCL-i-n99eFmZVBLJ3Md5Q\",\n",
      "  \"expiresOn\": \"2025-01-01 02:55:23.000000\",\n",
      "  \"expires_on\": 1735700123,\n",
      "  \"subscription\": \"....\",\n",
      "  \"tenant\": \"...\",\n",
      "  \"tokenType\": \"Bearer\"\n",
      "}\n"
     ]
    }
   ],
   "source": [
    "# you should run `az login` in the terminal first\n",
    "!az account get-access-token --subscription {subscription}"
   ]
  },
  {
   "cell_type": "markdown",
   "metadata": {},
   "source": [
    "Copy above `accessToken` value from the result of `az account get-access-token` and set it into a variable."
   ]
  },
  {
   "cell_type": "code",
   "execution_count": 18,
   "metadata": {},
   "outputs": [],
   "source": [
    "accesstoken=\"eyJ0eXAiOiJKV1QiLCJhbGciOiJSUzI1NiIsIng1dCI6InoxcnNZSEhKOS04bWdndDRIc1p1OEJLa0JQdyIsImtpZCI6InoxcnNZSEhKOS04bWdndDRIc1p1OEJLa0JQdyJ9.eyJhdWQiOiJodHRwczovL21hbmFnZW1lbnQuY29yZS53aW5kb3dzLm5ldC8iLCJpc3MiOiJodHRwczovL3N0cy53aW5kb3dzLm5ldC8xNmIzYzAxMy1kMzAwLTQ2OGQtYWM2NC03ZWRhMDgyMGI2ZDMvIiwiaWF0IjoxNzM1Njk0OTQxLCJuYmYiOjE3MzU2OTQ5NDEsImV4cCI6MTczNTcwMDEyNSwiYWNyIjoiMSIsImFpbyI6IkFhUUFXLzhZQUFBQXdLQUdwdTFhUlY1Z01KNEdoTUVObHlRbVJNNldScnV4Y2FIRk9kcEMvNkdZT3Zha1cvT2JNS0dVL3lwbk01YlRXaGV0SjV6TE53S0ZRNmdTckdTeTZacnZGYTNCMHl1bkJ2amhiYWFEQXpXUkEvd3FDWkNuTlo2a0xWNEwrUy9idVlqVlZGbDFJWHJIdWsrQVRwcitmWFBWSkpkbWpHRDE2MkJzUnRrdTJhWDlkc1RqcVZTMXhYMzVxdjBUOVJvRnRSZVVZeGZVUG1xaUtzbXBjTDJ6T3c9PSIsImFsdHNlY2lkIjoiNTo6MTAwMzIwMDNBQzlFQ0UwRSIsImFtciI6WyJyc2EiLCJtZmEiXSwiYXBwaWQiOiIwNGIwNzc5NS04ZGRiLTQ2MWEtYmJlZS0wMmY5ZTFiZjdiNDYiLCJhcHBpZGFjciI6IjAiLCJkZXZpY2VpZCI6ImQ4MzU5YmJjLWRjY2YtNDhkNy1hN2JlLWQ5YTI0ZGQ2MDQxMCIsImVtYWlsIjoibHVvZ2FuZ0BtaWNyb3NvZnQuY29tIiwiZmFtaWx5X25hbWUiOiJMdW8iLCJnaXZlbl9uYW1lIjoiR2FuZyIsImdyb3VwcyI6WyJiMTMwNDAyMi0wOGU2LTQ0N2QtYjA5NC0xNTM3MDU5N2M2YjYiLCIwOTUzMWE3Mi0yYzNlLTRlMDYtYmUxZS0yNTk2YmQwOGRjZGQiLCJkMzRjNGViZS00OTg0LTQ5MDMtYTY0ZC04YzIwMjgzZDUxNmIiLCJlMzA5NmRmNy1iNjVjLTRlMzItYWIxYS03YTM1ZGM2ODRmMGEiXSwiaWRwIjoiaHR0cHM6Ly9zdHMud2luZG93cy5uZXQvNzJmOTg4YmYtODZmMS00MWFmLTkxYWItMmQ3Y2QwMTFkYjQ3LyIsImlkdHlwIjoidXNlciIsImlwYWRkciI6IjE3Mi4xOTEuNi4xODciLCJuYW1lIjoiR2FuZyBMdW8iLCJvaWQiOiJhMDQ5MGMyZS00ZjZkLTQ5MGEtOWYwMy0wYjQ5YjhhM2M0ODAiLCJwdWlkIjoiMTAwMzIwMDNCMzRBMDUzQiIsInJoIjoiMS5BVVlBRThDekZnRFRqVWFzWkg3YUNDQzIwMFpJZjNrQXV0ZFB1a1Bhd2ZqMk1CUHhBSUpHQUEuIiwic2NwIjoidXNlcl9pbXBlcnNvbmF0aW9uIiwic2lkIjoiM2ZjMjFjMDctNGZjNC00MjVlLThjY2EtNDM3OTc5MmZhMGJlIiwic3ViIjoibEpSdGx5aWNUQnpmRENiVFFPMG9nazFhaVBfY3RwQWZKMkt4Yy1IRVY5VSIsInRpZCI6IjE2YjNjMDEzLWQzMDAtNDY4ZC1hYzY0LTdlZGEwODIwYjZkMyIsInVuaXF1ZV9uYW1lIjoibHVvZ2FuZ0BtaWNyb3NvZnQuY29tIiwidXRpIjoic0ExR0NSMUwwa3k1TUdERFNOSVdBQSIsInZlciI6IjEuMCIsIndpZHMiOlsiYjc5ZmJmNGQtM2VmOS00Njg5LTgxNDMtNzZiMTk0ZTg1NTA5Il0sInhtc19jYWUiOiIxIiwieG1zX2NjIjpbIkNQMSJdLCJ4bXNfZWRvdiI6dHJ1ZSwieG1zX2lkcmVsIjoiMSA0IiwieG1zX3RjZHQiOjE2NDUxMzcyMjh9.fVMIi6c-1rJnXfGim_ASvhk922JWxvTwTTn7bUsJ0SZuNdHZ0xqYmBymvnX-w6UhuTJtkBXlWzHa0Nty3LPNRA0unso8q3fYd9rGNzYBT5EVkkk_PRakErr_SNhHGye_mKmNl10uwi61iZs_2lktA7VncbPPd87TdkOWAPUI33TzvpzE4EI8heneXYow911tzcgEjjZ2uYpjvIexpfU3PYj5GJ335-y0QK_5zx3iGLumIjTgR29cnrwmR5laynqNimVlm9lvrKy-kJ2rzjweExxEDC3veqdC_wuNDXLfSz_mxiUbf9SjJBTOefz1sMBvCCL-i-n99eFmZVBLJ3Md5Q\""
   ]
  },
  {
   "cell_type": "code",
   "execution_count": 20,
   "metadata": {},
   "outputs": [
    {
     "name": "stdout",
     "output_type": "stream",
     "text": [
      "Creating a new deployment...\n"
     ]
    },
    {
     "name": "stdout",
     "output_type": "stream",
     "text": [
      "<Response [201]>\n",
      "Created\n",
      "{'id': '/subscriptions/<your subscription id>/resourceGroups/<resource group name>/providers/Microsoft.CognitiveServices/accounts/<azure ai service name>/deployments/gpt-4o-mini-2024-07-18-ft', 'type': 'Microsoft.CognitiveServices/accounts/deployments', 'name': 'gpt-4o-mini-2024-07-18-ft', 'sku': {'name': 'standard', 'capacity': 1}, 'properties': {'model': {'format': 'OpenAI', 'name': 'gpt-4o-mini-2024-07-18.ft-ec3e8decda384cddaacf81b7f573b1c9', 'version': '1'}, 'versionUpgradeOption': 'NoAutoUpgrade', 'capabilities': {'area': 'US', 'chatCompletion': 'true', 'jsonObjectResponse': 'true', 'maxContextToken': '128000', 'maxOutputToken': '16384', 'assistants': 'true'}, 'provisioningState': 'Creating'}, 'systemData': {'createdBy': '<account name>', 'createdByType': 'User', 'createdAt': '2025-01-01T01:59:53.9322892Z', 'lastModifiedBy': '<account name>', 'lastModifiedByType': 'User', 'lastModifiedAt': '2025-01-01T01:59:53.9322892Z'}, 'etag': '\"52b74cb6-2965-4d16-a741-8c15265352b1\"'}\n"
     ]
    }
   ],
   "source": [
    "# Deploy fine-tuned model\n",
    "\n",
    "import json\n",
    "import requests\n",
    "\n",
    "token = accesstoken\n",
    "\n",
    "deploy_params = {'api-version': \"2023-05-01\"}\n",
    "deploy_headers = {'Authorization': 'Bearer {}'.format(token), 'Content-Type': 'application/json'}\n",
    "\n",
    "deploy_data = {\n",
    "    \"sku\": {\"name\": \"standard\", \"capacity\": 1},\n",
    "    \"properties\": {\n",
    "        \"model\": {\n",
    "            \"format\": \"OpenAI\",\n",
    "            \"name\": \"gpt-4o-mini-2024-07-18.ft-ec3e8decda384cddaacf81b7f573b1c9\", #retrieve this value from the previous call, it will look like gpt-4o-mini-2024-07-18.ft-0e208cf33a6a466994aff31a08aba678\n",
    "            \"version\": \"1\"\n",
    "        }\n",
    "    }\n",
    "}\n",
    "deploy_data = json.dumps(deploy_data)\n",
    "\n",
    "request_url = f'https://management.azure.com/subscriptions/{subscription}/resourceGroups/{resource_group}/providers/Microsoft.CognitiveServices/accounts/{resource_name}/deployments/{model_deployment_name}'\n",
    "\n",
    "print('Creating a new deployment...')\n",
    "\n",
    "r = requests.put(request_url, params=deploy_params, headers=deploy_headers, data=deploy_data)\n",
    "\n",
    "print(r)\n",
    "print(r.reason)\n",
    "print(r.json())"
   ]
  },
  {
   "cell_type": "markdown",
   "metadata": {},
   "source": [
    "Test the deployment."
   ]
  },
  {
   "cell_type": "code",
   "execution_count": 4,
   "metadata": {},
   "outputs": [
    {
     "name": "stdout",
     "output_type": "stream",
     "text": [
      "Yes, other Azure AI services also support customer-managed keys for data encryption. Services like Azure Cognitive Services, Azure Machine Learning, and others within the Azure ecosystem allow users to manage their encryption keys using Azure Key Vault, providing an added layer of security and control over sensitive data. Always check the specific documentation for each service for detailed information on how to implement customer-managed keys.\n"
     ]
    }
   ],
   "source": [
    "# Use the deployed customized model\n",
    "\n",
    "import os\n",
    "from openai import AzureOpenAI\n",
    "\n",
    "client2 = AzureOpenAI(\n",
    "  azure_endpoint = os.getenv(\"AZURE_OPENAI_ENDPOINT\"),\n",
    "  api_key = os.getenv(\"AZURE_OPENAI_API_KEY\"),\n",
    "  api_version = \"2024-06-01\"\n",
    ")\n",
    "\n",
    "response = client2.chat.completions.create(\n",
    "    model = model_deployment_name, # model = \"Custom deployment name you chose for your fine-tuning model\"\n",
    "    messages = [\n",
    "        {\"role\": \"system\", \"content\": \"You are a helpful assistant.\"},\n",
    "        {\"role\": \"user\", \"content\": \"hello\"},\n",
    "        {\"role\": \"assistant\", \"content\": \"Yes, customer managed keys are supported by Azure OpenAI.\"},\n",
    "        {\"role\": \"user\", \"content\": \"Do other Azure AI services support this too?\"}\n",
    "    ]\n",
    ")\n",
    "\n",
    "print(response.choices[0].message.content)"
   ]
  }
 ],
 "metadata": {
  "kernelspec": {
   "display_name": "azureml_py310_sdkv2",
   "language": "python",
   "name": "python3"
  },
  "language_info": {
   "codemirror_mode": {
    "name": "ipython",
    "version": 3
   },
   "file_extension": ".py",
   "mimetype": "text/x-python",
   "name": "python",
   "nbconvert_exporter": "python",
   "pygments_lexer": "ipython3",
   "version": "3.10.14"
  }
 },
 "nbformat": 4,
 "nbformat_minor": 2
}
